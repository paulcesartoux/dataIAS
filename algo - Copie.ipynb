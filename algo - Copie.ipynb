{
 "cells": [
  {
   "cell_type": "code",
   "execution_count": 1,
   "id": "31621735",
   "metadata": {},
   "outputs": [],
   "source": [
    "import sklearn as sk \n",
    "from sklearn import preprocessing as p\n",
    "import pandas as pd\n",
    "import numpy as np\n",
    "import matplotlib.pyplot as plt\n",
    "import matplotlib.cm as cm\n",
    "from skimage.transform import resize\n",
    "import cv2\n",
    "import math\n",
    "import statistics as stat\n",
    "from PIL import Image\n",
    "import os\n",
    "import csv\n",
    "from sklearn.metrics import accuracy_score"
   ]
  },
  {
   "cell_type": "markdown",
   "id": "d208f1e9",
   "metadata": {},
   "source": [
    "# LISTE DES PATHS/Noms des caractères"
   ]
  },
  {
   "cell_type": "code",
   "execution_count": 64,
   "id": "b9ab96ea",
   "metadata": {},
   "outputs": [
    {
     "name": "stdout",
     "output_type": "stream",
     "text": [
      "ň«¬\n",
      "ň«á\n",
      "ň«â\n",
      "ň«ä\n",
      "ň«Ç\n",
      "ň«ë\n",
      "ň«í\n",
      "ň«î\n",
      "ň«ô\n",
      "ň«Ö\n",
      "ň«×\n",
      "ň«Ą\n",
      "ň«Ć\n",
      "ň«Č\n",
      "ň«Ľ\n",
      "ň«ł\n",
      "ň«│\n",
      "ň«┐\n",
      "ň«┤\n",
      "ň«╣\n",
      "ň«░\n",
      "[ 0  4  5  6  1  7  8  9 10  2  3 11 12 13 14 15 16 17 18 19 20]\n",
      "21\n",
      "<class 'numpy.ndarray'>\n"
     ]
    }
   ],
   "source": [
    "listedespaths=[]\n",
    "path = 'CASIA-HWDB_Train' #path dans le repertoire de fichier\n",
    "files = os.listdir(path) #recupere les files s'y trouvant\n",
    "for name in files:\n",
    "    listedespaths.append(name)\n",
    "    print(name)\n",
    "#liste des noms\n",
    "le=p.LabelEncoder() \n",
    "le.fit(listedespaths)\n",
    "classes=le.transform(listedespaths)\n",
    "# j'ai transformé les noms en chiffre car il y avait des conflits car les noms de fichiers n'étaient pas dans un encodage commun\n",
    "print(classes)\n",
    "print(len(classes))"
   ]
  },
  {
   "cell_type": "code",
   "execution_count": 65,
   "id": "68cc12d0",
   "metadata": {},
   "outputs": [],
   "source": [
    "# utilitaire\n",
    "def imageOpener(s):\n",
    "    im = Image.open(s)\n",
    "    im=im.convert('L')\n",
    "    im=np.array(im)\n",
    "    return im"
   ]
  },
  {
   "cell_type": "code",
   "execution_count": 66,
   "id": "bcc082fb",
   "metadata": {},
   "outputs": [
    {
     "name": "stdout",
     "output_type": "stream",
     "text": [
      "(61, 62)\n"
     ]
    }
   ],
   "source": [
    "# return la shape de l'image\n",
    "def tupleLargeurhauteur(s):\n",
    "    im = Image.open(s)\n",
    "    im=im.convert('L')\n",
    "    im=np.array(im)\n",
    "    return im.shape\n",
    "print(tupleLargeurhauteur('CASIA-HWDB_Train\\ň«¬\\\\1.png'))"
   ]
  },
  {
   "cell_type": "code",
   "execution_count": 67,
   "id": "6bd8f1ef",
   "metadata": {},
   "outputs": [],
   "source": [
    "def largeurhauteurdesimagesparcaractere(filename):\n",
    "    hauteur=[]\n",
    "    largeur=[]\n",
    "    for i in range(1,600):\n",
    "        try :\n",
    "            s='CASIA-HWDB_Train\\\\'+filename+'\\\\'+str(i)+'.png'\n",
    "            tupleLargeurhauteur(s)\n",
    "            hauteur.append(tupleLargeurhauteur(s)[0])\n",
    "            largeur.append(tupleLargeurhauteur(s)[1])\n",
    "        except :\n",
    "            continue\n",
    "    moylong=stat.mean(hauteur)\n",
    "    moylarg=stat.mean(largeur)\n",
    "    ectplong=np.std(hauteur)\n",
    "    ectplarg=np.std(largeur)\n",
    "    maxlong=max(hauteur)\n",
    "    maxlarg=max(largeur)\n",
    "    return (ectplong,ectplarg,maxlong,maxlarg)\n",
    "\n",
    "#ici on cherche a determiner la taille des images et \n",
    "#l'écart type de leur taille pour savoir si on pourra juste les contourer en blanc (grand ecart type => pas contourer)"
   ]
  },
  {
   "cell_type": "code",
   "execution_count": 68,
   "id": "b25fab13",
   "metadata": {},
   "outputs": [
    {
     "name": "stdout",
     "output_type": "stream",
     "text": [
      "f\n",
      "(13.916786439389774, 11.353012779499524, 210, 179)\n"
     ]
    }
   ],
   "source": [
    "listedesdetails=[]\n",
    "for i in listedespaths:\n",
    "    listedesdetails.append(largeurhauteurdesimagesparcaractere(i))\n",
    "    print\n",
    "def MoyenneEtMax(listeAvecTuplede4):\n",
    "    listeectplong=[]\n",
    "    listeectplarg=[]\n",
    "    listemaxlong=[]\n",
    "    listemaxlarg=[]\n",
    "    for k in range(len(listeAvecTuplede4)) :\n",
    "        listeectplong.append(listeAvecTuplede4[k][0])\n",
    "        listeectplarg.append(listeAvecTuplede4[k][1])\n",
    "        listemaxlong.append(listeAvecTuplede4[k][2])\n",
    "        listemaxlarg.append(listeAvecTuplede4[k][3])\n",
    "    moyectplong=stat.mean(listeectplong)\n",
    "    moyectplarg=stat.mean(listeectplarg)\n",
    "    maxlong=max(listemaxlong)\n",
    "    maxlarg=max(listemaxlarg)\n",
    "    return moyectplong,moyectplarg,maxlong,maxlarg\n",
    "\n",
    "print(MoyenneEtMax(listedesdetails))\n",
    "## écart type pas trop grand on peut contourer\n",
    "# on note les deux derniers chiffres qui sont les vals max de hauter/largeur des image dans tout le dataset"
   ]
  },
  {
   "cell_type": "code",
   "execution_count": 69,
   "id": "40c4bc3a",
   "metadata": {},
   "outputs": [
    {
     "name": "stdout",
     "output_type": "stream",
     "text": [
      "[[255. 255. 255. ... 255. 255. 255.]\n",
      " [255. 255. 255. ... 255. 255. 255.]\n",
      " [255. 255. 255. ... 255. 255. 255.]\n",
      " ...\n",
      " [255. 255. 255. ... 255. 255. 255.]\n",
      " [255. 255. 255. ... 255. 255. 255.]\n",
      " [255. 255. 255. ... 255. 255. 255.]]\n"
     ]
    }
   ],
   "source": [
    "matricebase=np.ones((210,179))\n",
    "matricebase=matricebase*255\n",
    "print(matricebase)\n",
    "#on crer une matrice blanche de cette taille"
   ]
  },
  {
   "cell_type": "code",
   "execution_count": 70,
   "id": "3b104f05",
   "metadata": {},
   "outputs": [],
   "source": [
    "def countourageBlanc(matricecharac, matriceref) :\n",
    "    disthauteur=math.ceil((len(matriceref)-len(matricecharac))/2) # .ceil pour éviter les demis pixels ;)\n",
    "    distlargeur=math.ceil((len(matriceref[0])-len(matricecharac[0]))/2)\n",
    "    matriceref[disthauteur:disthauteur+len(matricecharac), distlargeur:distlargeur+len(matricecharac[0])] = matricecharac\n",
    "    return matriceref\n",
    "            \n",
    "#fonction pour centrer nos images au milieu de cette matrice blanche"
   ]
  },
  {
   "cell_type": "markdown",
   "id": "17e0351e",
   "metadata": {},
   "source": [
    "#    Plot d'une image"
   ]
  },
  {
   "cell_type": "code",
   "execution_count": 71,
   "id": "ee974136",
   "metadata": {},
   "outputs": [
    {
     "name": "stdout",
     "output_type": "stream",
     "text": [
      "94\n",
      "68\n",
      "[[255 255 255 ... 255 255 255]\n",
      " [255 255 255 ... 255 255 255]\n",
      " [255 255 255 ... 255 255 255]\n",
      " ...\n",
      " [255 255 255 ... 255 255 255]\n",
      " [255 255 255 ... 255 255 255]\n",
      " [255 255 255 ... 255 255 255]]\n"
     ]
    },
    {
     "data": {
      "image/png": "[encoded data removed]",
      "text/plain": [
       "<Figure size 640x480 with 1 Axes>"
      ]
     },
     "metadata": {},
     "output_type": "display_data"
    }
   ],
   "source": [
    "# test de plotting pour une image\n",
    "img = np.asarray(Image.open('CASIA-HWDB_Train\\Test\\ň«×\\9.png'))\n",
    "print(len(img))\n",
    "print(len(img[0]))\n",
    "print(img)\n",
    "imgplot = plt.imshow(img)"
   ]
  },
  {
   "cell_type": "markdown",
   "id": "4ea39bf2",
   "metadata": {},
   "source": [
    "# Normalisation"
   ]
  },
  {
   "cell_type": "code",
   "execution_count": 72,
   "id": "8ad66c62",
   "metadata": {},
   "outputs": [
    {
     "data": {
      "image/png": "[encoded data removed]",
      "text/plain": [
       "<Figure size 640x480 with 1 Axes>"
      ]
     },
     "metadata": {},
     "output_type": "display_data"
    }
   ],
   "source": [
    "# test d'une normalisation\n",
    "imgtest = countourageBlanc(img, matricebase)\n",
    "imgplot = plt.imshow(imgtest)"
   ]
  },
  {
   "cell_type": "markdown",
   "id": "0d0fd057",
   "metadata": {},
   "source": [
    "# Creation de CSV avec les matrices applaties des images (attention très lourd)"
   ]
  },
  {
   "cell_type": "code",
   "execution_count": 73,
   "id": "b28dfe83",
   "metadata": {},
   "outputs": [
    {
     "name": "stdout",
     "output_type": "stream",
     "text": [
      "37591\n",
      "[0, 4, 5, 6, 1, 7, 8]\n",
      "3831\n"
     ]
    }
   ],
   "source": [
    "#FAIT UNE LISTE COMPOSEE DE CHAQUE IMAGE MISE A PLAT (1D)\n",
    "def creerImage1D(imagepath,matricebase):\n",
    "    img = imageOpener(imagepath)\n",
    "    matricecontouree=countourageBlanc(img, matricebase)\n",
    "    matrice1D=matricecontouree.flatten().tolist()\n",
    "    return matrice1D\n",
    "\n",
    "#creer un index (noms des colonnes)\n",
    "\n",
    "def creerindexpixels():\n",
    "    return ['class']+['index' + str(i) for i in range(0, 210*179)]\n",
    "\n",
    "index=creerindexpixels()\n",
    "\n",
    "print('nombre de cols : ', len(index))\n",
    "\n",
    "#cree la liste de toutes les matrices du dataset en 1D\n",
    "\n",
    "def creerlistedesmatrices1Dpourunfichier(listedesmatrices,nomfichier,index,matricebase,classe):\n",
    "  \n",
    "    for i in range(1,600): #600 nombre d'images max pour un caractère\n",
    "        try :\n",
    "            imagepath='CASIA-HWDB_Train\\\\'+nomfichier+'\\\\'+str(i)+'.png'\n",
    "            matrice1D=creerImage1D(imagepath,matricebase)\n",
    "            if(matrice1D):\n",
    "                matrice1D.insert(0, classe)\n",
    "                listedesmatrices.append(matrice1D)\n",
    "        except :\n",
    "            continue\n",
    "    return listedesmatrices\n",
    "\n",
    "# params\n",
    "matricebase=np.ones((210,179))\n",
    "matricebase=matricebase*255\n",
    "index=creerindexpixels()\n",
    "classes = classes.tolist()\n",
    "########################################################################################\n",
    "# WARNING la creation est assez rapide pour 1 2 ou 3 mais ralenti fortement ensuite !!!\n",
    "########################################################################################\n",
    "\n",
    "classes=classes[0:2] #ficheir Csv 2classes\n",
    "# classes=classes[0:3] #ficheir CSv 3classes\n",
    "# classes=classes[0:4] #ficheir CSv 4classes\n",
    "#classes=classes[0:7] #ficheir CSv 5classes\n",
    "print('nombre de classes :' len(classes))\n",
    "#start tous les fichiers\n",
    "\n",
    "listedesmatrices=[]\n",
    "listedesmatrices.append(index)\n",
    "\n",
    "#pour faire toutes les classes\n",
    "\n",
    "for j in range(len(classes)) :\n",
    "    path=listedespaths[j]\n",
    "    classe=classes[j]\n",
    "    listedesmatrices=creerlistedesmatrices1Dpourunfichier(listedesmatrices,path,index,matricebase,classe)\n",
    "    \n",
    "print('nombre de photos :' len(listedesmatrices))\n",
    "      \n",
    "# writer dans csv file   \n",
    "#renommer pixelstrainXclasse comme vous le souhaitez\n",
    "with open('pixelstrainXclasse.csv', mode='w', newline='') as fichier_csv:\n",
    "    writer = csv.writer(fichier_csv, delimiter=',')    # Écriture des en-têtes\n",
    "    writer.writerow(listedesmatrices[0])    # Écriture des valeurs de pixel\n",
    "    for pixels in listedesmatrices[1:]:\n",
    "        writer.writerow(pixels)\n",
    "     "
   ]
  },
  {
   "cell_type": "code",
   "execution_count": null,
   "id": "3906d774",
   "metadata": {},
   "outputs": [],
   "source": [
    "# la mise dans le buffer est très lente \n",
    "\n",
    "# Lecture du fichier CSV avec les paramètres spécifiés\n",
    "data = pd.read_csv('pixelstrain7classe.csv')\n",
    "print('fini')"
   ]
  },
  {
   "cell_type": "code",
   "execution_count": null,
   "id": "a297c18c",
   "metadata": {},
   "outputs": [],
   "source": [
    "#on commence la partie M-L\n",
    "\n",
    "from sklearn.model_selection import train_test_split\n",
    "\n",
    "x = data.drop(columns='class')\n",
    "y = data['class']\n",
    "\n",
    "x_train, x_test, y_train, y_test = train_test_split(x, y, test_size=0.2, random_state=101)"
   ]
  },
  {
   "cell_type": "code",
   "execution_count": null,
   "id": "e139bfbf",
   "metadata": {},
   "outputs": [],
   "source": [
    "# X.pca\n",
    "\n",
    "from sklearn.decomposition import PCA\n",
    "\n",
    "n_components = 50 # taille du vecteur, on vise petit pour ne pas overfit et avoir suffisament de datas par rapport aux cols\n",
    "pca = PCA(n_components=n_components)\n",
    "\n",
    "# Application de la pca sur nos datas\n",
    "x_train_pca = pca.fit_transform(x_train)\n",
    "\n",
    "# print(x_train_pca[0])\n"
   ]
  },
  {
   "cell_type": "code",
   "execution_count": null,
   "id": "b3cb2448",
   "metadata": {},
   "outputs": [],
   "source": [
    "#ici on peut voir les consequences de la pca sur la photo d'origine (sa projection à nouveau)\n",
    "x_train_reconstructed = np.dot(x_train_pca, pca.components_) + pca.mean_\n",
    "img=x_train_reconstructed[0].reshape(210, 179)\n",
    "imgplot = plt.imshow(img)"
   ]
  },
  {
   "cell_type": "code",
   "execution_count": null,
   "id": "ead5d1f5",
   "metadata": {},
   "outputs": [],
   "source": [
    "x_test_pca = pca.fit_transform(x_test)"
   ]
  },
  {
   "cell_type": "markdown",
   "id": "38234b70",
   "metadata": {},
   "source": [
    "#  SVC"
   ]
  },
  {
   "cell_type": "code",
   "execution_count": null,
   "id": "47901f6a",
   "metadata": {},
   "outputs": [],
   "source": [
    "# SVC Ker linear\n",
    "\n",
    "from sklearn.svm import SVC\n",
    "\n",
    "# Créer un modèle SVC\n",
    "modelSVClin = SVC(kernel=\"linear\")\n",
    "\n",
    "# Entraîner le modèle sur les données PCA transformées\n",
    "modelSVClin.fit(x_train_pca, y_train)\n",
    "\n",
    "y_pred = modelSVClin.predict(x_test_pca)\n",
    "# Calculer la précision du modèle\n",
    "accuracySVC1 = accuracy_score(y_test, y_pred)\n",
    "print(\"Précision du modèle : {:.2f}%\".format(accuracySVC1 * 100))"
   ]
  },
  {
   "cell_type": "code",
   "execution_count": null,
   "id": "2fc4cdfc",
   "metadata": {},
   "outputs": [],
   "source": [
    "#SVC Ker Polynomial\n",
    "\n",
    "# Créer un modèle SVC\n",
    "modelSVCpoly = SVC(kernel=\"poly\", degree=4)\n",
    "\n",
    "# Entraîner le modèle sur les données PCA transformées\n",
    "modelSVCpoly.fit(x_train_pca, y_train)\n",
    "\n",
    "y_pred = modelSVCpoly.predict(x_test_pca)\n",
    "\n",
    "# Calculer la précision du modèle\n",
    "accuracySVC2 = accuracy_score(y_test, y_pred)\n",
    "print(\"Précision du modèle : {:.2f}%\".format(accuracySVC2 * 100))"
   ]
  },
  {
   "cell_type": "code",
   "execution_count": null,
   "id": "b0562e2c",
   "metadata": {},
   "outputs": [],
   "source": [
    "#SVC Ker rbf\n",
    "\n",
    "# Créer un modèle SVC\n",
    "modelSVCrbf = SVC(kernel=\"rbf\", gamma='scale')\n",
    "\n",
    "# Entraîner le modèle sur les données PCA transformées\n",
    "modelSVCrbf.fit(x_train_pca, y_train)\n",
    "\n",
    "y_pred = modelSVCrbf.predict(x_test_pca)\n",
    "\n",
    "# Calculer la précision du modèle\n",
    "accuracySVC3 = accuracy_score(y_test, y_pred)\n",
    "print(\"Précision du modèle : {:.2f}%\".format(accuracySVC3 * 100))"
   ]
  },
  {
   "cell_type": "code",
   "execution_count": null,
   "id": "dad6550c",
   "metadata": {},
   "outputs": [],
   "source": [
    "#SVC Ker Sig\n",
    "\n",
    "# Créer un modèle SVC\n",
    "modelSVCSig = SVC(kernel=\"sigmoid\")\n",
    "\n",
    "# Entraîner le modèle sur les données PCA \n",
    "modelSVCSig.fit(x_train_pca, y_train)\n",
    "\n",
    "y_pred = modelSVCSig.predict(x_test_pca)\n",
    "\n",
    "# Calculer la précision du modèle\n",
    "accuracySVC4 = accuracy_score(y_test, y_pred)\n",
    "print(\"Précision du modèle : {:.2f}%\".format(accuracySVC4 * 100))"
   ]
  },
  {
   "cell_type": "code",
   "execution_count": null,
   "id": "3c789cd2",
   "metadata": {},
   "outputs": [],
   "source": [
    "#Representation Graphique fonction des hyperparamètres ker pour SVC\n",
    "\n",
    "# Définir les hyperparamètres à tester\n",
    "hyperparam_values = ['linear', 'poly', 'rbf','sigmoid']\n",
    "\n",
    "#Liste stockant les performances\n",
    "performances = [accuracySVC1, accuracySVC2, accuracySVC3,accuracySVC4]\n",
    "\n",
    "#Traçage le graphique\n",
    "plt.plot(hyperparam_values, performances, marker='o')\n",
    "plt.xlabel('Type de noyau')\n",
    "plt.ylabel('% Prédit')\n",
    "plt.title('Performances de l\\'algorithme SVC en fonction des hyperparamètres')\n",
    "plt.grid(True)\n",
    "plt.show()\n"
   ]
  },
  {
   "cell_type": "markdown",
   "id": "28ee309f",
   "metadata": {},
   "source": [
    "#  K+1 voisins"
   ]
  },
  {
   "cell_type": "code",
   "execution_count": null,
   "id": "66630850",
   "metadata": {},
   "outputs": [],
   "source": [
    "from sklearn.neighbors import KNeighborsClassifier\n",
    "\n",
    "knn = KNeighborsClassifier(n_neighbors=1)\n",
    "\n",
    "knn.fit(x_train_pca, y_train)\n",
    "\n",
    "y_pred = knn.predict(x_test_pca)\n",
    "\n",
    "# Calculer la précision du modèle\n",
    "accuracyKneighboor = accuracy_score(y_test, y_pred)\n",
    "print(\"Précision du modèle : {:.2f}%\".format(accuracyKneighboor * 100))\n",
    " \n"
   ]
  },
  {
   "cell_type": "code",
   "execution_count": null,
   "id": "6ff33871",
   "metadata": {},
   "outputs": [],
   "source": [
    "from sklearn.model_selection import GridSearchCV\n",
    "from sklearn.metrics import classification_report\n",
    "\n",
    "# Définir les valeurs de k à tester\n",
    "param_grid = {\n",
    "    'n_neighbors': [2, 7, 9, 11, 21, 55, 67, 100, 150,300]\n",
    "}\n",
    "\n",
    "# Créer le modèle k-plus-proches voisins\n",
    "model = KNeighborsClassifier()\n",
    "\n",
    "# Créer l'objet GridSearchCV\n",
    "grid_search = GridSearchCV(estimator=model, param_grid=param_grid, cv=5)\n",
    "\n",
    "# Effectuer la recherche d'hyperparamètres\n",
    "grid_search.fit(x_train_pca, y_train)\n",
    "\n",
    "# Afficher les meilleurs hyperparamètres trouvés\n",
    "print(\"Meilleur nombre pour K+1 voisins : \", grid_search.best_params_)\n",
    "\n",
    "# Obtenir les prédictions sur l'ensemble de test\n",
    "y_pred = grid_search.predict(x_test_pca)\n",
    "\n",
    "# Afficher le rapport de classification\n",
    "print(\"Rapport de classification : \")\n",
    "print(classification_report(y_test, y_pred))\n"
   ]
  },
  {
   "cell_type": "code",
   "execution_count": null,
   "id": "3b055a56",
   "metadata": {},
   "outputs": [],
   "source": [
    "#Representation Graphique fonction des hyperparamètres\n",
    "\n",
    "# Définir les hyperparamètres à tester\n",
    "hyperparam_values = [2, 7, 9, 11, 21, 55, 67, 100, 150]\n",
    "\n",
    "# Liste pour stocker les performances\n",
    "performances = []\n",
    "\n",
    "# Boucle sur les différentes valeurs des hyperparamètres\n",
    "for hyperparam in hyperparam_values:\n",
    "    # Initialiser et entraîner le modèle avec l'hyperparamètre donné\n",
    "    modele = KNeighborsClassifier(n_neighbors=hyperparam)\n",
    "    modele.fit(x_train_pca, y_train)\n",
    "    \n",
    "    # Évaluer les performances du modèle sur l'ensemble de test\n",
    "    score = modele.score(x_test_pca, y_test)\n",
    "    \n",
    "    # Ajouter le score à la liste des performances\n",
    "    performances.append(score)\n",
    "\n",
    "# Tracer le graphique\n",
    "plt.plot(hyperparam_values, performances, marker='o')\n",
    "plt.xlabel('nombre de voisins')\n",
    "plt.ylabel('% Prédit')\n",
    "plt.title('Performances de l\\'algorithme K+1 Neighboor en fonction des hyperparamètres')\n",
    "plt.grid(True)\n",
    "plt.show()\n"
   ]
  },
  {
   "cell_type": "markdown",
   "id": "2f4d65c6",
   "metadata": {},
   "source": [
    "# Random Forest"
   ]
  },
  {
   "cell_type": "code",
   "execution_count": null,
   "id": "9626233e",
   "metadata": {},
   "outputs": [],
   "source": [
    "#X.randomforests\n",
    "\n",
    "from sklearn.ensemble import RandomForestClassifier\n",
    "\n",
    "modeleRandomForest = RandomForestClassifier(n_estimators=55)\n",
    "\n",
    "# Entraînement du classificateur\n",
    "modeleRandomForest.fit(x_train_pca, y_train)\n",
    "\n",
    "# Prédiction sur l'ensemble de test\n",
    "y_pred = modeleRandomForest.predict(x_test_pca)\n",
    "\n",
    "# Calcul de l'exactitude (accuracy)\n",
    "accuracyRF = accuracy_score(y_test, y_pred)\n",
    "print(\"Exactitude : \", accuracyRF*100)"
   ]
  },
  {
   "cell_type": "code",
   "execution_count": null,
   "id": "8d1c2eec",
   "metadata": {},
   "outputs": [],
   "source": [
    "from sklearn.model_selection import GridSearchCV\n",
    "from sklearn.metrics import classification_report\n",
    "\n",
    "#trouver le best param en en testant une liste \n",
    "\n",
    "# Définir les valeurs de k à tester\n",
    "param_grid = {\n",
    "    'n_estimators': [2, 7, 9, 11, 21, 55, 67, 100, 150]\n",
    "}\n",
    "\n",
    "# Créer le modèle k-plus-proches voisins\n",
    "model = RandomForestClassifier()\n",
    "\n",
    "# Créer l'objet GridSearchCV\n",
    "grid_search = GridSearchCV(estimator=model, param_grid=param_grid, cv=5)\n",
    "\n",
    "# Effectuer la recherche d'hyperparamètres\n",
    "grid_search.fit(x_train_pca, y_train)\n",
    "\n",
    "# Afficher les meilleurs hyperparamètres trouvés\n",
    "print(\"Meilleur nombre de forest : \", grid_search.best_params_)\n",
    "\n",
    "# Obtenir les prédictions sur l'ensemble de test\n",
    "y_pred = grid_search.predict(x_test_pca)\n",
    "\n",
    "# Afficher le rapport de classification\n",
    "print(\"Rapport de classification : \")\n",
    "print(classification_report(y_test, y_pred))\n"
   ]
  },
  {
   "cell_type": "code",
   "execution_count": null,
   "id": "a153c6d2",
   "metadata": {},
   "outputs": [],
   "source": [
    "#Representation Graphique fonction des hyperparamètres\n",
    "\n",
    "# Définir les hyperparamètres à tester\n",
    "hyperparam_values = [2, 7, 9, 11, 21, 55, 67, 100, 150]\n",
    "\n",
    "# Liste pour stocker les performances\n",
    "performances = []\n",
    "\n",
    "# Boucle sur les différentes valeurs des hyperparamètres\n",
    "for hyperparam in hyperparam_values:\n",
    "    # Initialiser et entraîner le modèle avec l'hyperparamètre donné\n",
    "    modele = RandomForestClassifier(n_estimators=hyperparam)\n",
    "    modele.fit(x_train_pca, y_train)\n",
    "    \n",
    "    # Évaluer les performances du modèle sur l'ensemble de test\n",
    "    score = modele.score(x_test_pca, y_test)\n",
    "    \n",
    "    # Ajouter le score à la liste des performances\n",
    "    performances.append(score)\n",
    "\n",
    "# Tracer le graphique\n",
    "plt.plot(hyperparam_values, performances, marker='o')\n",
    "plt.xlabel('nombre d\\'arbres')\n",
    "plt.ylabel('% Prédit')\n",
    "plt.title('Performances de l\\'algorithme Random Forest en fonction des hyperparamètres')\n",
    "plt.grid(True)\n",
    "plt.show()"
   ]
  },
  {
   "cell_type": "code",
   "execution_count": null,
   "id": "bb0d45d5",
   "metadata": {},
   "outputs": [],
   "source": []
  },
  {
   "cell_type": "code",
   "execution_count": null,
   "id": "922a9ae7",
   "metadata": {},
   "outputs": [],
   "source": []
  },
  {
   "cell_type": "code",
   "execution_count": null,
   "id": "c5ebd63f",
   "metadata": {},
   "outputs": [],
   "source": []
  }
 ],
 "metadata": {
  "kernelspec": {
   "display_name": "Python 3 (ipykernel)",
   "language": "python",
   "name": "python3"
  },
  "language_info": {
   "codemirror_mode": {
    "name": "ipython",
    "version": 3
   },
   "file_extension": ".py",
   "mimetype": "text/x-python",
   "name": "python",
   "nbconvert_exporter": "python",
   "pygments_lexer": "ipython3",
   "version": "3.9.16"
  }
 },
 "nbformat": 4,
 "nbformat_minor": 5
}
